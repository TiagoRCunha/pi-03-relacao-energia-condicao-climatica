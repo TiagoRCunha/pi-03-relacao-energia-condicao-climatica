{
 "cells": [
  {
   "cell_type": "code",
   "execution_count": 2,
   "metadata": {},
   "outputs": [],
   "source": [
    "import pandas as pd\n",
    "import numpy as np\n",
    "import xarray as xr\n"
   ]
  },
  {
   "cell_type": "code",
   "execution_count": null,
   "metadata": {},
   "outputs": [],
   "source": [
    "# 02/2022 00:00, 06:00, 12:00, 18:00\n",
    "ds = xr.open_dataset('../data/adaptor.mars.internal-1679871802.940342-24228-14-201e29ca-1f35-4fee-85ab-b9e07a6c2fd1.nc')\n",
    "df = ds.to_dataframe()\n",
    "\"\"\"\n",
    "u10 - 10m u-component of wind: ar movendo ao leste\n",
    "v10 - 10m v-component of wind: ar movendo ao norte\n",
    "d2m - 2m dewpoint temperature: humidade relativa do ar\n",
    "t2m - 2m temperature: temperatura a dois metros do solo\n",
    "lmld - Lake mix-layer depth: largura do campo d'agua\n",
    "ltlt - Lake total layer temperature: temperatura média do rio\n",
    "lai_hv - Leaf area index | high vegetation: índice de área florestal, vegetação alta\n",
    "lai_lv - Leaf area index | low vegetation: índice de área florestal, vegetação baixa\n",
    "ssr - Surface net solar radiation: incidência de raios solares\n",
    "tp - Total precipitation: total de precipitação\n",
    "\"\"\"\n",
    "df"
   ]
  },
  {
   "cell_type": "code",
   "execution_count": null,
   "metadata": {},
   "outputs": [],
   "source": [
    "df = df[df.u10.notnull()]\n",
    "df"
   ]
  },
  {
   "cell_type": "code",
   "execution_count": null,
   "metadata": {},
   "outputs": [],
   "source": [
    "df.columns"
   ]
  }
 ],
 "metadata": {
  "kernelspec": {
   "display_name": "Python 3",
   "language": "python",
   "name": "python3"
  },
  "language_info": {
   "codemirror_mode": {
    "name": "ipython",
    "version": 3
   },
   "file_extension": ".py",
   "mimetype": "text/x-python",
   "name": "python",
   "nbconvert_exporter": "python",
   "pygments_lexer": "ipython3",
   "version": "3.10.10"
  },
  "orig_nbformat": 4
 },
 "nbformat": 4,
 "nbformat_minor": 2
}
