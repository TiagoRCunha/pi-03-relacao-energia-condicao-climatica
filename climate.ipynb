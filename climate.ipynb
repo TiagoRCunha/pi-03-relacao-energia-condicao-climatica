{
 "cells": [
  {
   "cell_type": "code",
   "execution_count": 1,
   "metadata": {},
   "outputs": [],
   "source": [
    "import os\n",
    "import pandas as pd\n",
    "\n",
    "REMOVE_COLUMNS_REGION = [\"CODIGO (WMO):\", \"DATA DE FUNDACAO:\", \"ESTACAO:\"]\n",
    "GET_COLUMNS_CLIMATE = [\n",
    "    \"Data\",\n",
    "    \"Hora UTC\",\n",
    "    \"PRECIPITAÇÃO TOTAL, HORÁRIO (mm)\",\n",
    "    \"VENTO, VELOCIDADE HORARIA (m/s)\",\n",
    "    \"TEMPERATURA DO AR - BULBO SECO, HORARIA (°C)\",\n",
    "    \"RADIACAO GLOBAL (Kj/m²)\",\n",
    "    \"UMIDADE RELATIVA DO AR, HORARIA (%)\",\n",
    "]\n"
   ]
  },
  {
   "attachments": {},
   "cell_type": "markdown",
   "metadata": {
    "slideshow": {
     "slide_type": "notes"
    }
   },
   "source": [
    "#### Leitura dos arquivos sobre o clima\n",
    "\n",
    "Arquivos baixados do site [inmet](https://portal.inmet.gov.br/dadoshistoricos) (arquivos de 2022)"
   ]
  },
  {
   "cell_type": "code",
   "execution_count": 3,
   "metadata": {},
   "outputs": [],
   "source": [
    "climate_dir = \"./data/2022\"\n",
    "list_df_station = []\n",
    "list_df_climate = []\n",
    "\n",
    "for file_name in os.listdir(climate_dir):\n",
    "    # Nossa tabela fato, utiliza o nome da UF, latitude, longitude e altitude\n",
    "    df_station = pd.read_csv(\n",
    "        f\"{climate_dir}/{file_name}\",\n",
    "        delimiter=\";\",\n",
    "        encoding=\"Windows 1252\",\n",
    "        nrows=7,\n",
    "    ).set_index(\"REGIAO:\").transpose().reset_index(drop=True)\n",
    "    df_station = df_station.drop(columns=REMOVE_COLUMNS_REGION)\n",
    "\n",
    "    df_climate = pd.read_csv(\n",
    "        f\"{climate_dir}/{file_name}\",\n",
    "        delimiter=\";\",\n",
    "        encoding=\"Windows 1252\",\n",
    "        skiprows=8,\n",
    "    ).dropna(how=\"all\", subset=GET_COLUMNS_CLIMATE[2:]).get(GET_COLUMNS_CLIMATE)\n",
    "\n",
    "    list_df_station.append(df_station)\n",
    "    list_df_climate.append(df_climate)\n"
   ]
  },
  {
   "cell_type": "code",
   "execution_count": null,
   "metadata": {},
   "outputs": [],
   "source": [
    "df_all_station = pd.concat(list_df_station, ignore_index=True)\n",
    "df_all_station.to_csv(\"./data/inmet_regiao.csv\", sep=\";\")"
   ]
  },
  {
   "cell_type": "code",
   "execution_count": null,
   "metadata": {},
   "outputs": [],
   "source": [
    "df_all_climate = pd.concat(list_df_climate, ignore_index=True)\n",
    "df_all_climate.to_csv(\"./data/inmet_dados_meteorologicos.csv\", sep=\";\")"
   ]
  }
 ],
 "metadata": {
  "kernelspec": {
   "display_name": "Python 3",
   "language": "python",
   "name": "python3"
  },
  "language_info": {
   "codemirror_mode": {
    "name": "ipython",
    "version": 3
   },
   "file_extension": ".py",
   "mimetype": "text/x-python",
   "name": "python",
   "nbconvert_exporter": "python",
   "pygments_lexer": "ipython3",
   "version": "3.10.10"
  },
  "orig_nbformat": 4
 },
 "nbformat": 4,
 "nbformat_minor": 2
}
