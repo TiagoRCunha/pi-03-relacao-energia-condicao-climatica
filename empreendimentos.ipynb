{
 "cells": [
  {
   "cell_type": "code",
   "execution_count": null,
   "metadata": {},
   "outputs": [],
   "source": [
    "import pandas as pd\n",
    "import numpy as np\n",
    "\n",
    "#Selecionando colunas usadas\n",
    "GET_COLUMNS = [\n",
    "    \"DatGeracaoConjuntoDados\",\n",
    "    \"NomEmpreendimento\",\n",
    "    \"SigUFPrincipal\",\n",
    "    \"SigTipoGeracao\",\n",
    "    \"NomFonteCombustivel\",\n",
    "    \"MdaPotenciaFiscalizadaKw\",\n",
    "    \"MdaPotenciaOutorgadaKw\",\n",
    "    \"DscMuninicpios\"\n",
    "]"
   ]
  },
  {
   "cell_type": "code",
   "execution_count": null,
   "metadata": {},
   "outputs": [],
   "source": [
    "#Ler arquivo csv e passar para dataframe\n",
    "df = pd.read_csv(\n",
    "    \"./data/empreendimentos.csv\",\n",
    "    delimiter=\";\",\n",
    "    encoding=\"Windows 1252\"\n",
    ").get(GET_COLUMNS)\n",
    "\n",
    "#Criando Index\n",
    "df = df.rename_axis(\"id\")\n",
    "\n",
    "#Criando tabela dimensão\n",
    "dim_emp = df.drop(columns=[\"DatGeracaoConjuntoDados\", \"MdaPotenciaFiscalizadaKw\", \"MdaPotenciaOutorgadaKw\"])\n",
    "\n",
    "#adicionando id da FK\n",
    "df[\"Id_empreendimento\"] = dim_emp.index.values\n",
    "\n",
    "# Criando tabela fato\n",
    "fato_ger = df[[\"DatGeracaoConjuntoDados\", \"MdaPotenciaFiscalizadaKw\", \"MdaPotenciaOutorgadaKw\",\"Id_empreendimento\"]]\n",
    "\n",
    "\n",
    "#Traduzindo dataframe para csv\n",
    "fato_ger.to_csv(\"./data/fato_geracao.csv\", sep=\";\")\n",
    "dim_emp.to_csv(\"./data/dim_empreendimento.csv\", sep=\";\")"
   ]
  }
 ],
 "metadata": {
  "kernelspec": {
   "display_name": "Python 3",
   "language": "python",
   "name": "python3"
  },
  "language_info": {
   "codemirror_mode": {
    "name": "ipython",
    "version": 3
   },
   "file_extension": ".py",
   "mimetype": "text/x-python",
   "name": "python",
   "nbconvert_exporter": "python",
   "pygments_lexer": "ipython3",
   "version": "3.9.6"
  },
  "orig_nbformat": 4
 },
 "nbformat": 4,
 "nbformat_minor": 2
}
